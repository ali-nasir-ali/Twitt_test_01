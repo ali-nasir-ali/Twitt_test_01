{
  "nbformat": 4,
  "nbformat_minor": 0,
  "metadata": {
    "colab": {
      "name": "Untitled0.ipynb",
      "provenance": [],
      "authorship_tag": "ABX9TyOwZFhUb24qWZi+JVSgImto",
      "include_colab_link": true
    },
    "kernelspec": {
      "name": "python3",
      "display_name": "Python 3"
    },
    "language_info": {
      "name": "python"
    }
  },
  "cells": [
    {
      "cell_type": "markdown",
      "metadata": {
        "id": "view-in-github",
        "colab_type": "text"
      },
      "source": [
        "<a href=\"https://colab.research.google.com/github/anasir514/Twitt_test_01/blob/master/tweepy_api.ipynb\" target=\"_parent\"><img src=\"https://colab.research.google.com/assets/colab-badge.svg\" alt=\"Open In Colab\"/></a>"
      ]
    },
    {
      "cell_type": "code",
      "metadata": {
        "id": "xq6a9KAcWRkJ"
      },
      "source": [
        "pip install tweepy"
      ],
      "execution_count": null,
      "outputs": []
    },
    {
      "cell_type": "code",
      "metadata": {
        "id": "6ENnLtL6fao3"
      },
      "source": [
        "\n",
        "cons_key    = \"\"\n",
        "cons_secret = \"\"\n",
        "acc_token   = \"\"\n",
        "acc_token_secret = \"\"\n"
      ],
      "execution_count": 39,
      "outputs": []
    },
    {
      "cell_type": "code",
      "metadata": {
        "colab": {
          "base_uri": "https://localhost:8080/"
        },
        "id": "Eu50xEJ0XuXb",
        "outputId": "7885623d-85c4-4c88-9b6c-6b8f4d6ae8de"
      },
      "source": [
        "import tweepy\n",
        "\n",
        "# -------------------------------------------------------------------\n",
        "\n",
        "consumer_key           = cons_key\n",
        "consumer_secret        = cons_secret \n",
        "access_token           = acc_token\n",
        "access_token_secret    = acc_token_secret\n",
        " \n",
        "\n",
        "# -------------------------------------------------------------------\n",
        "\n",
        "auth = tweepy.OAuthHandler(consumer_key, consumer_secret)\n",
        "auth.set_access_token(access_token, access_token_secret)\n",
        "\n",
        "api = tweepy.API(auth)\n",
        "api = tweepy.API(auth)\n",
        "print(\"\\n-----------------------------------------------------------------\")\n",
        "print(\"\\n             TESTING Authentication\")\n",
        "\n",
        "try:\n",
        "    api.verify_credentials()\n",
        "    print(\"Authentication OK\")\n",
        "except:\n",
        "    print(\"Error during authentication\")\n",
        "\n",
        "\n",
        "print(\"-----------------------------------------------------------------\")\n",
        "print(\"             TESTING STATUS UPDATE\")\n",
        "\n",
        "api.update_status(\"Test tweet from world and universe\")\n",
        "#api.update_status(\"Test tweet from world and wolrd\")\n",
        "#api.update_status(\"Test tweet from world and sun\")\n",
        "\n",
        "print(\"\\n-----------------------------------------------------------------\")\n",
        "print(\"\\n             TESTING TIMELINE CHECK\")\n",
        "\n",
        "public_tweets = api.home_timeline()\n",
        "for tweet in public_tweets:\n",
        "    print(tweet.text)\n",
        "\n",
        "print(\"\\n-----------------------------------------------------------------\")\n",
        "print(\"\\n \\t\\t\\t ALL DONE \\n-----------------------------------------------------------------\")"
      ],
      "execution_count": 46,
      "outputs": [
        {
          "output_type": "stream",
          "text": [
            "\n",
            "-----------------------------------------------------------------\n",
            "\n",
            "             TESTING Authentication\n",
            "Authentication OK\n",
            "-----------------------------------------------------------------\n",
            "             TESTING STATUS UPDATE\n",
            "\n",
            "-----------------------------------------------------------------\n",
            "\n",
            "             TESTING TIMELINE CHECK\n",
            "Test tweet from world and unnnnnnivnnnerce\n",
            "Test tweet from world and univnnnerce\n",
            "Test tweet from world and univerce\n",
            "RT @NCTsmtown: REACTION to 🌈'Hello Future’🌈 MV | NCT DREAM Reaction\n",
            "\n",
            "https://t.co/9fMKCkluQ7\n",
            "\n",
            "#NCTDREAM #HelloFuture #Reaction\n",
            "#NCT #엔시티 #엔…\n",
            "RT @NCTsmtown: SM 아이돌은 아침에 뭘 먹나요 😋 [답해서 잠금해제] NCT DREAM | ENG SUB\n",
            "\n",
            "https://t.co/pd98tRoQbz\n",
            "\n",
            "#NCTDREAM #HelloFuture \n",
            "#NCTDREAM_HelloFuture\n",
            "RT @NCTsmtown: 💥🌈🐬🐹🌈💥\n",
            "\n",
            "https://t.co/Nu9PKUW7dJ\n",
            "\n",
            "#HelloFuture #NCTDREAM_HelloFuture \n",
            "#BANGchallenge #뱅챌린지\n",
            "#NCTDREAM #NCT\n",
            "#CHENLE #JISUNG\n",
            "RT @NCTsmtown: 💚🌈🐻🤝🐶🌈💚\n",
            "\n",
            "https://t.co/Wb7p8IMuzj\n",
            "\n",
            "#HelloFuture #NCTDREAM_HelloFuture \n",
            "#Handshake #핸드쉐이크\n",
            "#NCTDREAM #NCT\n",
            "#JENO #HAECHAN\n",
            "RT @NCTsmtown: 아이돌과 학생들의 하루 비교(Feat.NCT DREAM) | ODG\n",
            "\n",
            "https://t.co/w3A6RoMAn1\n",
            "\n",
            "#NCTDREAM #HelloFuture\n",
            "#NCTDREAM_HelloFuture\n",
            "NCT DREAM 청량 파워! 정규 1집 리패키지 ‘Hello Future’도 1위 행진!\n",
            " \n",
            "NCT DREAM The 1st Album Repackage ‘Hello Future’ tops various… https://t.co/fVs63UbSAl\n",
            "Stream NCT DREAM’s new track “Hello Future” on A-List: K-Pop @applemusic !\n",
            "\n",
            "🔗 https://t.co/bsa6TxPMt1\n",
            " \n",
            "#NCTDREAM… https://t.co/zeIB9BY8yC\n",
            "Don’t miss out on the members’ unrevealed photos and their hand-written messages ONLY available on iTunes booklet!… https://t.co/00IWZUOvd1\n",
            "🔊 Get your digital booklet on iTunes for NCT DREAM ‘Hello Future - The 1st Album Repackage’ from the link below👇🏻👇🏻… https://t.co/MA1iX7ZsHi\n",
            "🔊 NCT DREAM ‘Hello Future – The 1st Album Repackage’ is out!! Listen now on your favorite platform 👇🏻👇🏻… https://t.co/dBJ3bETolf\n",
            "NCT DREAM The 1st Album Repackage ⠀\n",
            "〖Hello Future〗⠀\n",
            "\n",
            "Melon ➫ https://t.co/sWS00LgaG7\n",
            "Genie ➫… https://t.co/isaBShS42B\n",
            "NCT DREAM 'Hello Future'\n",
            "\n",
            "https://t.co/Y6ddZPIkFz \n",
            "\n",
            "#NCTDREAM #HelloFuture\n",
            "#NCTDREAM_HelloFuture\n",
            "▶ Online Store \n",
            "SMTOWN &amp;STORE : https://t.co/gdPodESM7U\n",
            "SM Global Shop : https://t.co/Ig5tiow9rz\n",
            "SM true Store :… https://t.co/zM15nG1lil\n",
            "BAEKHYUN: Special Merchandise 온라인 예약판매 안내 \n",
            "6월 28일(월)부터 다양한 온라인 판매처를 통해 예약하실 수 있습니다.\n",
            "\n",
            "BAEKHYUN: Special Merchandise… https://t.co/TufbQ1lrEu\n",
            "RT @edkpop_official: On July 4th, 12 PM KST, join KAI’s ED LIVE Class to learn the choreography of “Mmmh” directly from KAI and receive rea…\n",
            "💚👋🐯🦊🐹🐰🐶🐬🐻👋💚\n",
            "\n",
            "#NCTDREAM #HelloFuture #NCTDREAM_HelloFuture https://t.co/MbuoLNg9wz\n",
            "'Hello Future' MV Teaser\n",
            "\n",
            "NCT DREAM The 1st Album Repackage ⠀\n",
            "〖Hello Future〗⠀\n",
            "➫ 2021.06.28 (KST)\n",
            "\n",
            "#NCTDREAM… https://t.co/rrShXyBi4k\n",
            "\n",
            " \t\t\t ALL DONE \n",
            "-----------------------------------------------------------------\n"
          ],
          "name": "stdout"
        }
      ]
    }
  ]
}